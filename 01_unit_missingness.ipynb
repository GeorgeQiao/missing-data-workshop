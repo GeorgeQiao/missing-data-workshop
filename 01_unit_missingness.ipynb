{
 "cells": [
  {
   "cell_type": "markdown",
   "metadata": {},
   "source": [
    "# Unit Missingness Demo\n",
    "\n",
    "When handling unit missingness, the most common method is to do **weight class adjustments**. This requires us to break our observations into classes and weight them before doing our analysis."
   ]
  },
  {
   "cell_type": "code",
   "execution_count": null,
   "metadata": {},
   "outputs": [],
   "source": [
    "# Import libraries.\n",
    "import pandas as pd\n",
    "import numpy as np\n",
    "\n",
    "# Set random seed.\n",
    "np.random.seed(42)\n",
    "\n",
    "# Generate dataframe.\n",
    "value_score = [min(np.random.poisson(5), 10) if i % 2 == 0 else min(np.random.poisson(6), 10) for i in range(10_000)]\n",
    "value_score = [value_score[i] if (i % 8 == 0 or (i % 7 != 0 and i % 2 == 1)) else np.nan for i in range(10_000)]\n",
    "departments = ['finance' if i % 2 == 0 else 'accounting' for i in range(10_000)]\n",
    "df = pd.DataFrame({\n",
    "    'dept': departments,\n",
    "    'score': value_score\n",
    "})\n",
    "\n",
    "# Check first five rows.\n",
    "df.head()"
   ]
  },
  {
   "cell_type": "code",
   "execution_count": null,
   "metadata": {},
   "outputs": [],
   "source": [
    "# What is the distribution of department?\n",
    "df['dept'].value_counts(normalize = True)"
   ]
  },
  {
   "cell_type": "code",
   "execution_count": null,
   "metadata": {},
   "outputs": [],
   "source": [
    "# Check for nulls.\n",
    "df.isnull().sum()"
   ]
  },
  {
   "cell_type": "code",
   "execution_count": null,
   "metadata": {},
   "outputs": [],
   "source": [
    "# Drop NAs.\n",
    "df.dropna(inplace = True)"
   ]
  },
  {
   "cell_type": "code",
   "execution_count": null,
   "metadata": {},
   "outputs": [],
   "source": [
    "# What proportion of our responses came from accounting?\n",
    "df['dept'].value_counts(normalize = True)['accounting']"
   ]
  },
  {
   "cell_type": "code",
   "execution_count": null,
   "metadata": {},
   "outputs": [],
   "source": [
    "df['dept'].value_counts(normalize = True)"
   ]
  },
  {
   "cell_type": "markdown",
   "metadata": {},
   "source": [
    "1. Take the full sample (observed and missing) and break them into subgroups based on characteristics we know.\n",
    "2. Calculate a weight for each observation:\n",
    "\n",
    "$$\n",
    "\\text{weight}_i = \\frac{\\text{true proportion in group }i}{\\text{proportion of observed values in group }i}\n",
    "$$"
   ]
  },
  {
   "cell_type": "code",
   "execution_count": null,
   "metadata": {},
   "outputs": [],
   "source": [
    "# Calculate and print the weight for accounting.\n",
    "w_accounting = (1/2) / df['dept'].value_counts(normalize = True)['accounting']\n",
    "\n",
    "print(f'The weight for each accounting vote is: {w_accounting}.')"
   ]
  },
  {
   "cell_type": "code",
   "execution_count": null,
   "metadata": {},
   "outputs": [],
   "source": [
    "# Calculate the and print weight for finance.\n",
    "w_finance = (1/2) / df['dept'].value_counts(normalize = True)['finance']\n",
    "\n",
    "print(f'The weight for each finance vote is: {w_finance}.')"
   ]
  },
  {
   "cell_type": "code",
   "execution_count": null,
   "metadata": {},
   "outputs": [],
   "source": [
    "# Let's confirm that the weights times the counts\n",
    "# yields a 50/50 split.\n",
    "print(w_accounting * df['dept'].value_counts()['accounting'])\n",
    "print(w_finance * df['dept'].value_counts()['finance'])"
   ]
  },
  {
   "cell_type": "code",
   "execution_count": null,
   "metadata": {},
   "outputs": [],
   "source": [
    "# Create column that stores the weights.\n",
    "\n",
    "df['weights'] = [w_accounting if i == 'accounting' else w_finance for i in df['dept']]"
   ]
  },
  {
   "cell_type": "code",
   "execution_count": null,
   "metadata": {},
   "outputs": [],
   "source": [
    "# Confirm counts.\n",
    "\n",
    "df['weights'].value_counts()"
   ]
  },
  {
   "cell_type": "code",
   "execution_count": null,
   "metadata": {},
   "outputs": [],
   "source": [
    "# Calculate raw mean of my employee satisfaction score.\n",
    "\n",
    "np.mean(df['score'])"
   ]
  },
  {
   "cell_type": "code",
   "execution_count": null,
   "metadata": {},
   "outputs": [],
   "source": [
    "# Calculate weighted mean of my employee satisfaction score.\n",
    "\n",
    "np.mean(df['score'] * df['weights'])"
   ]
  },
  {
   "cell_type": "markdown",
   "metadata": {},
   "source": [
    "<details><summary>Our goal with post-weighting is to decrease bias. What should we be concerned about?</summary>\n",
    "    \n",
    "- Due to the bias-variance tradeoff, as we decrease bias, we may cause an increase in variance.\n",
    "- This can be a really big deal, [said the New York Times in 2016](https://www.nytimes.com/2016/10/13/upshot/how-one-19-year-old-illinois-man-is-distorting-national-polling-averages.html).\n",
    "</details>"
   ]
  },
  {
   "cell_type": "markdown",
   "metadata": {},
   "source": [
    "<details><summary>What might be a situation where we may not be able to use weight class adjustments?</summary>\n",
    "    \n",
    "- If we don't know the true distribution of our classes.\n",
    "- For example, if I didn't know that half of our team was in accounting and half in finance.\n",
    "- Another example, let's say I wanted to apply this weighting method to understand the percentage of voters supporting the Democratic candidate in the upcoming election. I don't know how many people will be in each of the age groups 18-34, 35-54, and 55+. I'll have to make a guess. (Hopefully an educated one!)\n",
    "</details>"
   ]
  },
  {
   "cell_type": "markdown",
   "metadata": {},
   "source": [
    "#### Have more variables and want to build a sophisticated model?\n",
    "Pass `df['weight']` into `sklearn` when fitting your model. [Source](https://scikit-learn.org/stable/modules/generated/sklearn.ensemble.RandomForestRegressor.html#sklearn.ensemble.RandomForestRegressor.fit).\n",
    "> `model.fit(X_train, y_train, X_train['weight'])`"
   ]
  },
  {
   "cell_type": "markdown",
   "metadata": {},
   "source": [
    "In R, I am using `wtd.chi.sq`."
   ]
  }
 ],
 "metadata": {
  "kernelspec": {
   "display_name": "Python 3",
   "language": "python",
   "name": "python3"
  },
  "language_info": {
   "codemirror_mode": {
    "name": "ipython",
    "version": 3
   },
   "file_extension": ".py",
   "mimetype": "text/x-python",
   "name": "python",
   "nbconvert_exporter": "python",
   "pygments_lexer": "ipython3",
   "version": "3.8.3"
  }
 },
 "nbformat": 4,
 "nbformat_minor": 4
}
